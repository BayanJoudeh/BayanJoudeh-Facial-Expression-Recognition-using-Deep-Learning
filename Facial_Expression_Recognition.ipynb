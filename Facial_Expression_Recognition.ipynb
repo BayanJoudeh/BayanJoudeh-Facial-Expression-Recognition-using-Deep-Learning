{
  "cells": [
    {
      "cell_type": "code",
      "execution_count": null,
      "metadata": {
        "id": "WA0Fi9p9ah5_"
      },
      "outputs": [],
      "source": [
        "import tensorflow_datasets as tfds\n",
        "import tensorflow as tf\n",
        "import numpy as np\n",
        "\n",
        "from tensorflow.keras.preprocessing.text import Tokenizer\n",
        "from tensorflow.keras.preprocessing.sequence import pad_sequences"
      ]
    },
    {
      "cell_type": "code",
      "source": [
        "import tensorflow_datasets as tfds\n",
        "\n",
        "\n",
        "dataset, info = tfds.load('yelp_polarity_reviews', with_info=True)\n",
        "\n",
        "\n"
      ],
      "metadata": {
        "id": "d0QXGBqpn6ls"
      },
      "execution_count": null,
      "outputs": []
    },
    {
      "cell_type": "code",
      "execution_count": null,
      "metadata": {
        "id": "wHQ2Ko0zl7M4"
      },
      "outputs": [],
      "source": [
        "import tensorflow_datasets as tfds\n",
        "\n",
        "train_data, test_data = tfds.load('yelp_polarity_reviews', split=['train', 'test'], as_supervised=True)\n",
        "\n",
        "\n",
        "training_sentences = []\n",
        "training_labels = []\n",
        "\n",
        "testing_sentences = []\n",
        "testing_labels = []\n",
        "\n",
        "for s,l in train_data:\n",
        "  training_sentences.append(s.numpy().decode('utf8'))\n",
        "  training_labels.append(l.numpy())\n",
        "\n",
        "for s,l in test_data:\n",
        "  testing_sentences.append(s.numpy().decode('utf8'))\n",
        "  testing_labels.append(l.numpy())\n",
        "\n",
        "training_labels_final = np.array(training_labels)\n",
        "testing_labels_final = np.array(testing_labels)"
      ]
    },
    {
      "cell_type": "code",
      "source": [
        "import re\n",
        "import nltk\n",
        "from nltk.corpus import stopwords\n",
        "from nltk.tokenize import word_tokenize\n",
        "from nltk.stem import WordNetLemmatizer\n",
        "\n",
        "vocab_size = 10000\n",
        "max_length = 120\n",
        "trunc_type='post'\n",
        "oov_tok = \"<OOV>\"\n",
        "\n",
        "nltk.download('punkt')\n",
        "nltk.download('stopwords')\n",
        "nltk.download('wordnet')\n",
        "\n",
        "def preprocess_text(text):\n",
        "    text = text.lower()\n",
        "\n",
        "    text = re.sub(r'[^a-zA-Z\\s]', '', text)\n",
        "\n",
        "    tokens = word_tokenize(text)\n",
        "\n",
        "    stop_words = set(stopwords.words('english'))\n",
        "    tokens = [word for word in tokens if word not in stop_words]\n",
        "\n",
        "    lemmatizer = WordNetLemmatizer()\n",
        "    tokens = [lemmatizer.lemmatize(word) for word in tokens]\n",
        "\n",
        "    preprocessed_text = ' '.join(tokens)\n",
        "\n",
        "    return preprocessed_text\n",
        "\n",
        "training_sentences_preprocessed = [preprocess_text(sentence) for sentence in training_sentences]\n",
        "testing_sentences_preprocessed = [preprocess_text(sentence) for sentence in testing_sentences]\n",
        "\n",
        "tokenizer = Tokenizer(num_words=vocab_size, oov_token=oov_tok)\n",
        "\n",
        "tokenizer.fit_on_texts(training_sentences_preprocessed)\n",
        "word_index = tokenizer.word_index\n",
        "\n",
        "sequences = tokenizer.texts_to_sequences(training_sentences_preprocessed)\n",
        "padded = pad_sequences(sequences, maxlen=max_length, truncating=trunc_type)\n",
        "\n",
        "testing_sequences = tokenizer.texts_to_sequences(testing_sentences_preprocessed)\n",
        "testing_padded = pad_sequences(testing_sequences, maxlen=max_length)\n",
        "\n"
      ],
      "metadata": {
        "id": "ZnkMdQ97GCcm"
      },
      "execution_count": null,
      "outputs": []
    },
    {
      "cell_type": "code",
      "execution_count": null,
      "metadata": {
        "id": "nHGYuU4jPYaj"
      },
      "outputs": [],
      "source": [
        "import matplotlib.pyplot as plt\n",
        "\n",
        "def plot_graphs(history, string):\n",
        "  plt.plot(history.history[string])\n",
        "  plt.plot(history.history['val_'+string])\n",
        "  plt.xlabel(\"Epochs\")\n",
        "  plt.ylabel(string)\n",
        "  plt.legend([string, 'val_'+string])\n",
        "  plt.show()"
      ]
    },
    {
      "cell_type": "code",
      "execution_count": null,
      "metadata": {
        "id": "_SRAyulSaWAa"
      },
      "outputs": [],
      "source": [
        "embedding_dim = 16\n",
        "dense_dim = 6\n",
        "\n",
        "model_flatten = tf.keras.Sequential([   #adding layer seq\n",
        "    tf.keras.layers.Embedding(vocab_size, embedding_dim, input_length=max_length),\n",
        "    tf.keras.layers.Flatten(),\n",
        "    tf.keras.layers.Dense(dense_dim, activation='relu'),\n",
        "    tf.keras.layers.Dense(1, activation='sigmoid')\n",
        "])\n",
        "\n",
        "model_flatten.compile(loss='binary_crossentropy',optimizer='adam',metrics=['accuracy'])\n",
        "\n",
        "model_flatten.summary()"
      ]
    },
    {
      "cell_type": "code",
      "execution_count": null,
      "metadata": {
        "id": "tYLZUZ3Ga1ok"
      },
      "outputs": [],
      "source": [
        "NUM_EPOCHS = 5\n",
        "BATCH_SIZE = 128\n",
        "\n",
        "history_flatten = model_flatten.fit(padded, training_labels_final, batch_size=BATCH_SIZE, epochs=NUM_EPOCHS, validation_data=(testing_padded, testing_labels_final))"
      ]
    },
    {
      "cell_type": "code",
      "execution_count": null,
      "metadata": {
        "id": "fVPLbqcca6U2"
      },
      "outputs": [],
      "source": [
        "plot_graphs(history_flatten, 'accuracy')\n",
        "plot_graphs(history_flatten, 'loss')"
      ]
    },
    {
      "cell_type": "code",
      "source": [
        "adjusted_learning_rate = 0.0001\n",
        "adjusted_batch_size = 64\n",
        "\n",
        "model_flatten.compile(loss='binary_crossentropy', optimizer=tf.keras.optimizers.Adam(learning_rate=adjusted_learning_rate), metrics=['accuracy'])\n",
        "\n",
        "history_fine_flatten = model_flatten.fit(padded,\n",
        "                                         training_labels_final,\n",
        "                                         epochs=NUM_EPOCHS,\n",
        "                                         batch_size=adjusted_batch_size,\n",
        "                                         validation_data=(testing_padded, testing_labels_final))\n",
        "\n",
        "plot_graphs(history_fine_flatten, 'accuracy')\n",
        "plot_graphs(history_fine_flatten, 'loss')\n"
      ],
      "metadata": {
        "id": "C4yMYxYAb_3A"
      },
      "execution_count": null,
      "outputs": []
    },
    {
      "cell_type": "code",
      "execution_count": null,
      "metadata": {
        "id": "wSualgGPPK0S"
      },
      "outputs": [],
      "source": [
        "embedding_dim = 16\n",
        "lstm_dim = 32\n",
        "dense_dim = 6\n",
        "\n",
        "model_lstm = tf.keras.Sequential([\n",
        "    tf.keras.layers.Embedding(vocab_size, embedding_dim, input_length=max_length),\n",
        "    tf.keras.layers.Bidirectional(tf.keras.layers.LSTM(lstm_dim)),\n",
        "    tf.keras.layers.Dense(dense_dim, activation='relu'),\n",
        "    tf.keras.layers.Dense(1, activation='sigmoid')\n",
        "])\n",
        "\n",
        "model_lstm.compile(loss='binary_crossentropy',optimizer='adam',metrics=['accuracy'])\n",
        "\n",
        "model_lstm.summary()"
      ]
    },
    {
      "cell_type": "code",
      "execution_count": null,
      "metadata": {
        "id": "crEvEcQmUQiL"
      },
      "outputs": [],
      "source": [
        "NUM_EPOCHS = 5\n",
        "BATCH_SIZE = 128\n",
        "\n",
        "history_lstm = model_lstm.fit(padded, training_labels_final, batch_size=BATCH_SIZE, epochs=NUM_EPOCHS, validation_data=(testing_padded, testing_labels_final))"
      ]
    },
    {
      "cell_type": "code",
      "execution_count": null,
      "metadata": {
        "id": "QVwnSYF-aIha"
      },
      "outputs": [],
      "source": [
        "plot_graphs(history_lstm, 'accuracy')\n",
        "plot_graphs(history_lstm, 'loss')"
      ]
    },
    {
      "cell_type": "code",
      "source": [
        "adjusted_learning_rate = 0.0001\n",
        "adjusted_batch_size = 64\n",
        "\n",
        "model_lstm.compile(loss='binary_crossentropy', optimizer=tf.keras.optimizers.Adam(learning_rate=adjusted_learning_rate), metrics=['accuracy'])\n",
        "\n",
        "history_fine_lstm = model_lstm.fit(padded,\n",
        "                                   training_labels_final,\n",
        "                                   epochs=NUM_EPOCHS,\n",
        "                                   batch_size=adjusted_batch_size,\n",
        "                                   validation_data=(testing_padded, testing_labels_final))\n",
        "\n",
        "plot_graphs(history_fine_lstm, 'accuracy')\n",
        "plot_graphs(history_fine_lstm, 'loss')\n"
      ],
      "metadata": {
        "id": "HGPtOFv4cIpl"
      },
      "execution_count": null,
      "outputs": []
    },
    {
      "cell_type": "code",
      "execution_count": null,
      "metadata": {
        "id": "5NEpdhb8AxID"
      },
      "outputs": [],
      "source": [
        "import tensorflow as tf\n",
        "\n",
        "embedding_dim = 16\n",
        "gru_dim = 32\n",
        "dense_dim = 6\n",
        "\n",
        "model_gru = tf.keras.Sequential([\n",
        "    tf.keras.layers.Embedding(vocab_size, embedding_dim, input_length=max_length),\n",
        "    tf.keras.layers.Bidirectional(tf.keras.layers.GRU(gru_dim)),\n",
        "    tf.keras.layers.Dense(dense_dim, activation='relu'),\n",
        "    tf.keras.layers.Dense(1, activation='sigmoid')\n",
        "])\n",
        "\n",
        "model_gru.compile(loss='binary_crossentropy',optimizer='adam',metrics=['accuracy'])\n",
        "\n",
        "model_gru.summary()"
      ]
    },
    {
      "cell_type": "code",
      "execution_count": null,
      "metadata": {
        "id": "V5LLrXC-uNX6"
      },
      "outputs": [],
      "source": [
        "NUM_EPOCHS = 5\n",
        "BATCH_SIZE = 128\n",
        "\n",
        "history_gru = model_gru.fit(padded, training_labels_final, batch_size=BATCH_SIZE, epochs=NUM_EPOCHS, validation_data=(testing_padded, testing_labels_final))"
      ]
    },
    {
      "cell_type": "code",
      "execution_count": null,
      "metadata": {
        "id": "7kwU-2skSQ3E"
      },
      "outputs": [],
      "source": [
        "plot_graphs(history_gru, 'accuracy')\n",
        "plot_graphs(history_gru, 'loss')"
      ]
    },
    {
      "cell_type": "code",
      "source": [
        "adjusted_learning_rate = 0.0001\n",
        "adjusted_batch_size = 64\n",
        "\n",
        "model_gru.compile(loss='binary_crossentropy', optimizer=tf.keras.optimizers.Adam(learning_rate=adjusted_learning_rate), metrics=['accuracy'])\n",
        "\n",
        "history_fine_gru = model_gru.fit(padded,\n",
        "                                 training_labels_final,\n",
        "                                 epochs=NUM_EPOCHS,\n",
        "                                 batch_size=adjusted_batch_size,\n",
        "                                 validation_data=(testing_padded, testing_labels_final))\n",
        "\n",
        "plot_graphs(history_fine_gru, 'accuracy')\n",
        "plot_graphs(history_fine_gru, 'loss')\n"
      ],
      "metadata": {
        "id": "XiZr3daYcY7_"
      },
      "execution_count": null,
      "outputs": []
    },
    {
      "cell_type": "code",
      "execution_count": null,
      "metadata": {
        "id": "K_Jc7cY3Qxke"
      },
      "outputs": [],
      "source": [
        "embedding_dim = 16\n",
        "filters = 128 #detect featuresMap of each filter\n",
        "kernel_size = 5\n",
        "dense_dim = 6\n",
        "\n",
        "model_conv = tf.keras.Sequential([\n",
        "    tf.keras.layers.Embedding(vocab_size, embedding_dim, input_length=max_length),\n",
        "    tf.keras.layers.Conv1D(filters, kernel_size, activation='relu'),\n",
        "    tf.keras.layers.GlobalAveragePooling1D(), #avg of featureMap\n",
        "    tf.keras.layers.Dense(dense_dim, activation='relu'),\n",
        "    tf.keras.layers.Dense(1, activation='sigmoid')\n",
        "])\n",
        "\n",
        "model_conv.compile(loss='binary_crossentropy',optimizer='adam',metrics=['accuracy'])\n",
        "\n",
        "model_conv.summary()"
      ]
    },
    {
      "cell_type": "code",
      "execution_count": null,
      "metadata": {
        "id": "aUV70isnTiFF"
      },
      "outputs": [],
      "source": [
        "NUM_EPOCHS = 5\n",
        "BATCH_SIZE = 128 # numer of samples to process\n",
        "\n",
        "history_conv = model_conv.fit(padded, training_labels_final, batch_size=BATCH_SIZE, epochs=NUM_EPOCHS, validation_data=(testing_padded, testing_labels_final))"
      ]
    },
    {
      "cell_type": "code",
      "execution_count": null,
      "metadata": {
        "id": "T42EmhV0XhRV"
      },
      "outputs": [],
      "source": [
        "plot_graphs(history_conv, 'accuracy')\n",
        "plot_graphs(history_conv, 'loss')"
      ]
    },
    {
      "cell_type": "code",
      "source": [
        "adjusted_learning_rate = 0.0001\n",
        "adjusted_batch_size = 64\n",
        "\n",
        "model_conv.compile(loss='binary_crossentropy', optimizer=tf.keras.optimizers.Adam(learning_rate=adjusted_learning_rate), metrics=['accuracy'])\n",
        "\n",
        "history_fine = model_conv.fit(padded,\n",
        "                              training_labels_final,\n",
        "                              epochs=NUM_EPOCHS,  # Corrected variable name here\n",
        "                              batch_size=adjusted_batch_size,\n",
        "                              validation_data=(testing_padded, testing_labels_final))\n",
        "\n",
        "plot_graphs(history_fine, 'accuracy')\n",
        "plot_graphs(history_fine, 'loss')\n"
      ],
      "metadata": {
        "id": "SfOuWbYWKgLj"
      },
      "execution_count": null,
      "outputs": []
    },
    {
      "cell_type": "code",
      "source": [
        "import tensorflow as tf\n",
        "\n",
        "vocab_size = 10000\n",
        "max_length = 120\n",
        "embedding_dim = 16\n",
        "lstm_dim = 32\n",
        "dense_dim = 6\n",
        "dropout_rate = 0.2\n",
        "\n",
        "# Define the model\n",
        "model_lstm_dropout = tf.keras.Sequential([\n",
        "    tf.keras.layers.Embedding(vocab_size, embedding_dim, input_length=max_length),\n",
        "    tf.keras.layers.Bidirectional(tf.keras.layers.LSTM(lstm_dim, return_sequences=True)),\n",
        "    tf.keras.layers.Dropout(dropout_rate),\n",
        "    tf.keras.layers.Bidirectional(tf.keras.layers.LSTM(lstm_dim)),\n",
        "    tf.keras.layers.Dropout(dropout_rate),\n",
        "    tf.keras.layers.Dense(dense_dim, activation='relu'),\n",
        "    tf.keras.layers.Dense(1, activation='sigmoid')\n",
        "])\n",
        "\n",
        "# Compile the model\n",
        "model_lstm_dropout.compile(loss='binary_crossentropy', optimizer='adam', metrics=['accuracy'])\n",
        "\n",
        "# Display the model summary\n",
        "model_lstm_dropout.summary()\n",
        "\n",
        "# Assuming padded, training_labels_final, testing_padded, and testing_labels_final are defined\n",
        "history_lstm_dropout = model_lstm_dropout.fit(\n",
        "    padded, training_labels_final,\n",
        "    epochs=1,\n",
        "    batch_size=128,\n",
        "    validation_data=(testing_padded, testing_labels_final)\n",
        ")\n",
        "\n",
        "# Print accuracy after dropout\n",
        "print(\"Accuracy after dropout:\", history_lstm_dropout.history['accuracy'][-1])\n",
        "print(\"Validation accuracy after dropout:\", history_lstm_dropout.history['val_accuracy'][-1])\n"
      ],
      "metadata": {
        "id": "wC6AXDe9bHs9"
      },
      "execution_count": null,
      "outputs": []
    },
    {
      "cell_type": "code",
      "source": [
        "history_lstm = model_lstm.fit(padded, training_labels_final, batch_size=BATCH_SIZE, epochs=NUM_EPOCHS, validation_data=(testing_padded, testing_labels_final))\n",
        "\n",
        "lstm_loss, lstm_accuracy = model_lstm.evaluate(testing_padded, testing_labels_final)\n",
        "print(\"LSTM Model - Loss:\", lstm_loss)\n",
        "print(\"LSTM Model - Accuracy:\", lstm_accuracy)\n",
        "\n",
        "history_flatten = model_flatten.fit(padded, training_labels_final, batch_size=BATCH_SIZE, epochs=NUM_EPOCHS, validation_data=(testing_padded, testing_labels_final))\n",
        "\n",
        "flatten_loss, flatten_accuracy = model_flatten.evaluate(testing_padded, testing_labels_final)\n",
        "print(\"Flatten Model - Loss:\", flatten_loss)\n",
        "print(\"Flatten Model - Accuracy:\", flatten_accuracy)\n",
        "\n",
        "history_gru = model_gru.fit(padded, training_labels_final, batch_size=BATCH_SIZE, epochs=NUM_EPOCHS, validation_data=(testing_padded, testing_labels_final))\n",
        "\n",
        "gru_loss, gru_accuracy = model_gru.evaluate(testing_padded, testing_labels_final)\n",
        "print(\"GRU Model - Loss:\", gru_loss)\n",
        "print(\"GRU Model - Accuracy:\", gru_accuracy)\n",
        "\n",
        "history_conv = model_conv.fit(padded, training_labels_final, batch_size=BATCH_SIZE, epochs=NUM_EPOCHS, validation_data=(testing_padded, testing_labels_final))\n",
        "\n",
        "conv_loss, conv_accuracy = model_conv.evaluate(testing_padded, testing_labels_final)\n",
        "print(\"Conv1D Model - Loss:\", conv_loss)\n",
        "print(\"Conv1D Model - Accuracy:\",conv_accuracy)\n"
      ],
      "metadata": {
        "id": "mgf4vu5fOFHa"
      },
      "execution_count": null,
      "outputs": []
    }
  ],
  "metadata": {
    "accelerator": "GPU",
    "colab": {
      "provenance": [],
      "gpuType": "T4"
    },
    "kernelspec": {
      "display_name": "Python 3",
      "name": "python3"
    },
    "language_info": {
      "codemirror_mode": {
        "name": "ipython",
        "version": 3
      },
      "file_extension": ".py",
      "mimetype": "text/x-python",
      "name": "python",
      "nbconvert_exporter": "python",
      "pygments_lexer": "ipython3",
      "version": "3.7.4"
    }
  },
  "nbformat": 4,
  "nbformat_minor": 0
}